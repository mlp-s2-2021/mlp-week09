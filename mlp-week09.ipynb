{
  "cells": [
    {
      "cell_type": "markdown",
      "source": "# Machine Learning in Python - Workshop 9\n\nIn this week's workshop we will be returning to the NYC Parking Ticket data and exploring how to score and evaluate multiclass classification models as well as trying several addition modeling approaches for this type of data. ",
      "metadata": {
        "cell_id": "00000-9f0a6f72-018b-4e7e-b4f0-a6965fbf8975",
        "deepnote_cell_type": "markdown"
      }
    },
    {
      "cell_type": "markdown",
      "source": "# 1. Setup\n\n\n## 1.1 Packages\n",
      "metadata": {
        "cell_id": "00001-12c08568-2ca8-46e2-97e8-fcc294cac141",
        "deepnote_cell_type": "markdown"
      }
    },
    {
      "cell_type": "markdown",
      "source": "In the cell below we will load the core libraries we will be using for this workshop and setting some sensible defaults for our plot size and resolution. ",
      "metadata": {
        "cell_id": "00002-54d0459d-a891-44e5-9386-f9accbecce7b",
        "deepnote_cell_type": "markdown"
      }
    },
    {
      "cell_type": "code",
      "metadata": {
        "cell_id": "00003-dcfc456c-e47e-489c-9e8f-df66fc87ffc8",
        "deepnote_to_be_reexecuted": false,
        "source_hash": "a2c105e6",
        "execution_start": 1615986287259,
        "execution_millis": 4303,
        "output_cleared": true,
        "deepnote_cell_type": "code"
      },
      "source": "# Data libraries\nimport pandas as pd\nimport numpy as np\n\n# Plotting libraries\nimport matplotlib.pyplot as plt\nimport seaborn as sns\n\n# Plotting defaults\nplt.rcParams['figure.figsize'] = (10,6)\nplt.rcParams['figure.dpi'] = 80\n\n# sklearn modules\nimport sklearn\nimport sklearn.linear_model\nimport sklearn.tree\nimport sklearn.ensemble \nimport sklearn.neighbors\nimport sklearn.preprocessing\n\nfrom sklearn.pipeline import make_pipeline",
      "execution_count": null,
      "outputs": []
    },
    {
      "cell_type": "markdown",
      "source": "## 1.2 Helper Functions\n\n",
      "metadata": {
        "cell_id": "00004-19cb7e29-5d5a-4d53-85c7-f1b8791a896a",
        "deepnote_cell_type": "markdown"
      }
    },
    {
      "cell_type": "code",
      "metadata": {
        "cell_id": "00005-fa345255-03dd-4bd7-9554-084d4fbc35b6",
        "deepnote_to_be_reexecuted": false,
        "source_hash": "9c7734d2",
        "execution_start": 1615986291567,
        "execution_millis": 1,
        "output_cleared": true,
        "deepnote_cell_type": "code"
      },
      "source": "def plot_boundaries(bounds, x='lon', y='lat', group='precinct', n=5):\n    \"\"\" Draws boundary lines for a series of groups polygons in a dataframe\n    \"\"\"\n    sns.lineplot(x=x, y=y, hue=group, data=bounds,\n                 sort=False, palette=['k']*n, legend=None)",
      "execution_count": null,
      "outputs": []
    },
    {
      "cell_type": "code",
      "metadata": {
        "cell_id": "00006-10a6e38b-b9b4-4cb9-85c4-a0ed0fc6bf6c",
        "deepnote_to_be_reexecuted": false,
        "source_hash": "d756aeb1",
        "execution_start": 1615986291573,
        "execution_millis": 1,
        "output_cleared": true,
        "deepnote_cell_type": "code"
      },
      "source": "def plot_pred_labels(res, pred = 'pred_label', truth = 'precinct'):\n    \"\"\" Plots the predicted labels and true labels from a common data frame\n    \"\"\"\n    plt.figure(figsize=(5,8))\n    \n    ax = sns.scatterplot(\n        x='lon', y='lat', hue=pred, palette=precinct_pal, data=res\n    )\n    plot_boundaries(manh_bounds)\n    \n    acc = sklearn.metrics.accuracy_score(\n        res[truth], res[pred]\n    )\n    \n    ax.set_title(\"Predicted Labels (Accuracy {:.3f})\".format(acc))\n    \n    plt.show()",
      "execution_count": null,
      "outputs": []
    },
    {
      "cell_type": "markdown",
      "source": "## 1.3 Data\n\nAs described in the Week 7 workshop, these data comes from New York City's [Open Data project](https://opendata.cityofnewyork.us/). We have simplified the data somewhat and restricted the data to just include the five precincts (1st, 5th, 6th, 7th, and 9th) in the southern end of Manhattan. The following data files have been provided:\n\n* `manh_tickets.csv` - Geocoded parking tickets from the 5 southern most precincts in Manhattan\n* `manh_test.csv` - Points randomly sampled within the true boundaries of these precincts\n* `manh_bounds.csv` - boundaries of these precincts\n\nAs before, our goal is to use these parking tickets to develop a model which correctly predicts the boundaries of the police precincts in Manhattan based only on the locations where parking tickets have been issued. We will read in all the data sets using pandas,",
      "metadata": {
        "cell_id": "00007-69f92321-f3ed-42d7-b757-253e2c64523b",
        "deepnote_cell_type": "markdown"
      }
    },
    {
      "cell_type": "code",
      "metadata": {
        "cell_id": "00008-c7c48d88-24ca-4d60-bc78-fbb0a7fbcad9",
        "deepnote_to_be_reexecuted": false,
        "source_hash": "1318a92d",
        "execution_start": 1615986291576,
        "execution_millis": 15,
        "output_cleared": true,
        "deepnote_cell_type": "code"
      },
      "source": "manh_tickets = pd.read_csv(\"manh_tickets.csv\")\nmanh_test    = pd.read_csv(\"manh_test.csv\")\nmanh_bounds  = pd.read_csv(\"manh_bounds.csv\")",
      "execution_count": null,
      "outputs": []
    },
    {
      "cell_type": "markdown",
      "source": "and create our basic response vector and model matrix,",
      "metadata": {
        "cell_id": "00009-998a7e5b-9e9a-4700-a473-ce0b1b1b5a3a",
        "deepnote_cell_type": "markdown"
      }
    },
    {
      "cell_type": "code",
      "metadata": {
        "cell_id": "00010-7cb5379f-8fcb-433a-b876-101a0c7fc91e",
        "deepnote_to_be_reexecuted": false,
        "source_hash": "7ee292b7",
        "execution_start": 1615986291594,
        "execution_millis": 5,
        "output_cleared": true,
        "deepnote_cell_type": "code"
      },
      "source": "X = manh_tickets[['lon','lat']]\ny = manh_tickets.precinct",
      "execution_count": null,
      "outputs": []
    },
    {
      "cell_type": "markdown",
      "source": "Finally, we create labels and a color palette which will be used for across subsequent plots.",
      "metadata": {
        "cell_id": "00011-c7e7f643-7074-4353-8e0a-d8e4dad5f348",
        "deepnote_cell_type": "markdown"
      }
    },
    {
      "cell_type": "code",
      "metadata": {
        "cell_id": "00012-a1df1141-5b59-4ee7-870d-afcf96c6d028",
        "deepnote_to_be_reexecuted": false,
        "source_hash": "92c9575f",
        "execution_start": 1615986291601,
        "execution_millis": 42,
        "output_cleared": true,
        "deepnote_cell_type": "code"
      },
      "source": "precincts = ['Precinct01', 'Precinct05', 'Precinct06', 'Precinct07', 'Precinct09']\nprecincts_short = ['P01', 'P05', 'P06', 'P07', 'P09']\nprecincts_pred = [\"pred_\" + p for p in precincts_short]\n\n# Create a color palette for precincts based on the cols25 palette from R's pals package\nprecinct_pal = dict(\n    zip(precincts,\n        [(0.1215686, 0.47058824, 0.7843137), (1.0000000, 0.00000000, 0.0000000),\n         (0.2000000, 0.62745098, 0.1725490), (0.4156863, 0.20000000, 0.7607843),\n         (1.0000000, 0.49803922, 0.0000000) ]\n    )\n)",
      "execution_count": null,
      "outputs": []
    },
    {
      "cell_type": "markdown",
      "source": "Using our new palette we can plot the original parking ticket data and add the precinct boundaries using `plot_boundaries` to make everything more readable.",
      "metadata": {
        "cell_id": "00013-26bb3c96-badc-45b9-ae5a-b6779af92fa1",
        "deepnote_cell_type": "markdown"
      }
    },
    {
      "cell_type": "code",
      "metadata": {
        "cell_id": "00014-5e97f288-ff66-4e63-86c8-64980132abcd",
        "deepnote_to_be_reexecuted": false,
        "source_hash": "841b0129",
        "execution_millis": 599,
        "execution_start": 1615986338171,
        "output_cleared": true,
        "deepnote_cell_type": "code"
      },
      "source": "plt.figure(figsize=(5,8))\n\nsns.scatterplot(\n    x='lon', y='lat', hue='precinct', palette=precinct_pal, data=manh_tickets\n).set_title(\"Parking Tickets\")\nplot_boundaries(manh_bounds)\n\nplt.show()",
      "execution_count": null,
      "outputs": []
    },
    {
      "cell_type": "markdown",
      "source": "--- \n\n# 1.4. Review - Multiclass logistic (multinomial) regression \n\n",
      "metadata": {
        "cell_id": "00015-d6c177d6-4dd4-4d20-b815-e172ff70ac72",
        "deepnote_cell_type": "markdown"
      }
    },
    {
      "cell_type": "markdown",
      "source": "At the end of the Week 7 workshop we had fit a Logistic Regression model using `multi_class=multinomial` in order to obtain a probabilistically consistent predictive model, e.g. for any given prediction the probabilities of each class sum to one. We will begin by reconstructing this same model and using it as a point of comparison.",
      "metadata": {
        "cell_id": "00016-e4c4605d-4ed6-4e57-9bff-2bf8efbb862e",
        "deepnote_cell_type": "markdown"
      }
    },
    {
      "cell_type": "code",
      "metadata": {
        "cell_id": "00017-4560962c-a338-471b-b4a8-cb8ac0f6049e",
        "deepnote_to_be_reexecuted": false,
        "source_hash": "67408dc9",
        "execution_start": 1615986292332,
        "execution_millis": 45,
        "output_cleared": true,
        "deepnote_cell_type": "code"
      },
      "source": "m_mn = make_pipeline(\n    sklearn.preprocessing.StandardScaler(),\n    sklearn.linear_model.LogisticRegression(penalty='none', multi_class='multinomial')\n).fit(X, y)",
      "execution_count": null,
      "outputs": []
    },
    {
      "cell_type": "markdown",
      "source": "This model is then used to predict both the class label for test location as well as the predicted probability for each precinct for all test locations, these results are then stored in the `res_mn` data frame.",
      "metadata": {
        "cell_id": "00018-7d148c2b-f139-4bed-9f81-d56dd611f569",
        "deepnote_cell_type": "markdown"
      }
    },
    {
      "cell_type": "code",
      "metadata": {
        "cell_id": "00019-4f262899-05c2-4df2-a4ec-2d850591fd67",
        "deepnote_to_be_reexecuted": false,
        "source_hash": "5eb9580e",
        "execution_start": 1615986292388,
        "execution_millis": 122,
        "output_cleared": true,
        "deepnote_cell_type": "code"
      },
      "source": "res_mn = pd.concat(\n    [ manh_test,\n      pd.Series(\n          data = m_mn.predict(manh_test[['lon','lat']]),\n          name = \"pred_label\"\n      ),\n      pd.DataFrame(\n          data = m_mn.predict_proba(manh_test[['lon','lat']]),\n          columns = precincts_pred\n      )\n    ], \n    axis = 1\n)\n\nres_mn\n",
      "execution_count": null,
      "outputs": []
    },
    {
      "cell_type": "markdown",
      "source": "---\n\n### &diams; Exercise 1\n\nPick at least three random test locactions and using `res_mn` verify that the predicted label for each point corresponds to the class with the largest predicted probability and that the predicted probabilities are consistent (e.g. they add up to 1).",
      "metadata": {
        "cell_id": "00020-06789f55-c88d-480e-8742-8561a8b8a4f0",
        "deepnote_cell_type": "markdown"
      }
    },
    {
      "cell_type": "code",
      "metadata": {
        "cell_id": "00021-9d7e05a4-2a8c-4606-8710-234610fe2aee",
        "deepnote_to_be_reexecuted": false,
        "source_hash": "b623e53d",
        "execution_start": 1615986292489,
        "execution_millis": 0,
        "output_cleared": true,
        "deepnote_cell_type": "code"
      },
      "source": "",
      "execution_count": null,
      "outputs": []
    },
    {
      "cell_type": "markdown",
      "source": "---",
      "metadata": {
        "cell_id": "00022-c75d874e-4fc5-4424-8ad9-d84565a2b1fb",
        "deepnote_cell_type": "markdown"
      }
    },
    {
      "cell_type": "markdown",
      "source": "We can also use the `plot_pred_labels` function, defined witht the helper functions above, to visualize the predicted labels.",
      "metadata": {
        "cell_id": "00023-592931a0-3e9d-469e-90f1-575fefbc3f59",
        "deepnote_cell_type": "markdown"
      }
    },
    {
      "cell_type": "code",
      "metadata": {
        "cell_id": "00024-456518bd-923a-496a-843b-0dbf3b0fc5e1",
        "deepnote_to_be_reexecuted": false,
        "source_hash": "dedcc375",
        "execution_start": 1615986292491,
        "execution_millis": 680,
        "output_cleared": true,
        "deepnote_cell_type": "code"
      },
      "source": "plot_pred_labels(res_mn)",
      "execution_count": null,
      "outputs": []
    },
    {
      "cell_type": "markdown",
      "source": "---\n\n# 2. Additional scoring methods / tools for multiclass models\n",
      "metadata": {
        "cell_id": "00025-be551f31-e032-42ba-9dcf-5ac39eab07a6",
        "deepnote_cell_type": "markdown"
      }
    },
    {
      "cell_type": "markdown",
      "source": "## 2.1 Confusion Matrix\n\nAs we saw in week 7, perhaps the most straight forward approach to assess a model is to use the label predictions directly to construct a confusion matrix which places the true labels along the rows and the predicted labels along the columns.",
      "metadata": {
        "cell_id": "00026-48e5c323-f784-49e2-b065-6562dd5c30bb",
        "deepnote_cell_type": "markdown"
      }
    },
    {
      "cell_type": "code",
      "metadata": {
        "cell_id": "00027-342e073b-4356-43fd-a13f-acff8d363219",
        "deepnote_to_be_reexecuted": false,
        "source_hash": "f92258fc",
        "execution_start": 1615986293118,
        "execution_millis": 53,
        "output_cleared": true,
        "deepnote_cell_type": "code"
      },
      "source": "sklearn.metrics.confusion_matrix(res_mn.precinct, res_mn.pred_label)",
      "execution_count": null,
      "outputs": []
    },
    {
      "cell_type": "markdown",
      "source": "---\n\n### &diams; Exercise 4\n\nExplain what information is given by the value 27 given in the 2nd row, 5th column of this confusion matrix.",
      "metadata": {
        "cell_id": "00028-1faa539d-9c70-4304-beb9-cf9375f737e8",
        "deepnote_cell_type": "markdown"
      }
    },
    {
      "cell_type": "markdown",
      "source": "",
      "metadata": {
        "cell_id": "00029-3fa71a9d-c363-4708-b918-a972348a7c5a",
        "deepnote_cell_type": "markdown"
      }
    },
    {
      "cell_type": "markdown",
      "source": "---\n\nTo expand on this idea, and to help scale this approach to cases when there are many classes sklearn provides a convenient plotting function for visualizing the confusion matrix which provides methods for normalizing by the rows (\"true\"), columns (\"pred\"), or all values.",
      "metadata": {
        "cell_id": "00030-ccea23fa-901c-41ab-b9f7-fea613e10ab3",
        "deepnote_cell_type": "markdown"
      }
    },
    {
      "cell_type": "code",
      "metadata": {
        "cell_id": "00031-d11529d8-4e34-4718-a2b0-afad2aaa230f",
        "deepnote_to_be_reexecuted": false,
        "source_hash": "bf41d5fd",
        "execution_millis": 645,
        "execution_start": 1615986355051,
        "output_cleared": true,
        "deepnote_cell_type": "code"
      },
      "source": "fig = plt.figure(figsize=(9, 9))\nnormalize=[None, 'true', 'pred', 'all']\n\nfor i in range(len(normalize)):\n    ax = fig.add_subplot(221+i)\n    \n    if (normalize[i] is None):\n        ax.set_title(\"normalize = None\")\n    else:\n        ax.set_title(\"normalize = \\\"\" + normalize[i] + \"\\\"\")\n    \n    sklearn.metrics.plot_confusion_matrix(\n        m_mn, X, y, include_values=False, ax=ax,\n        normalize = normalize[i],\n        display_labels = precincts_short,\n        cmap = plt.cm.Blues\n    )\n",
      "execution_count": null,
      "outputs": []
    },
    {
      "cell_type": "markdown",
      "source": "---\n\n### &diams; Exercise 2\n\nWhich normalization method appears to be is most useful for determining False Positives, what about False Negatives? Explain.",
      "metadata": {
        "cell_id": "00032-a7754a0b-a450-4c6c-b702-89cf8da31a88",
        "deepnote_cell_type": "markdown"
      }
    },
    {
      "cell_type": "markdown",
      "source": "",
      "metadata": {
        "cell_id": "00033-24f12a2e-577b-4c27-806c-812a7457f9c4",
        "deepnote_cell_type": "markdown"
      }
    },
    {
      "cell_type": "markdown",
      "source": "---\n\n## 2.2 One-vs-rest ROC curves\n\nPreviously in the case of logistic regression (binary classification) we saw how this enabled us to consider all possible decision threshold values to generate a receiver operating characteristic (ROC) curve showing the trade off between possible true positive and false positive rates.\n\nIn the case of a classification model that produces probabilistic predictions we can extend this idea to the multiclass case but it is not without some significant drawbacks. Specifically, the concept of a decision threshold does not make sense in the multiclass setting since we need to make a choice among $k$ classes. However, what we can do is consider a one-vs-rest approach where we take each class as the positive case and all other classes as the negative. In this way we can construct $k$ different ROC curves using our original predicted probabilities. The function below implements this considering each class separately and calculating a unique ROC and AUC for each. ",
      "metadata": {
        "cell_id": "00034-42910e16-d6c3-493b-9d8d-cb3020b24e68",
        "deepnote_cell_type": "markdown"
      }
    },
    {
      "cell_type": "code",
      "metadata": {
        "cell_id": "00035-2abc9e0e-a0d3-40ff-ae04-3767d1f203a1",
        "deepnote_to_be_reexecuted": false,
        "source_hash": "24664292",
        "execution_millis": 0,
        "execution_start": 1615986413112,
        "output_cleared": true,
        "deepnote_cell_type": "code"
      },
      "source": "def ovr_roc_plot(y_true, y_pred):\n    \"\"\" Draw ROC curves using one-vs-rest approach\n    \"\"\"\n    \n    classes = y_true.unique()\n    n_classes = len(y_true.unique())\n    \n    # Convert from n x 1 categorical matrix to n x k binary matrix\n    y_true = pd.get_dummies(y_true).to_numpy()\n    \n    y_pred = y_pred.to_numpy()\n    \n    # Sanity Check\n    if y_true.shape[1] != y_pred.shape[1]:\n        raise ValueError(\"Truth and prediction dimensions do not match.\")\n    \n    # Compute ROC curve and ROC area for each class\n    rocs = dict() \n    aucs = dict() \n    for name, i in zip(classes, range(n_classes)):\n        aucs[i] = pd.DataFrame({ \n            'precinct': [name],\n            'auc': [sklearn.metrics.roc_auc_score(y_true[:, i], y_pred[:, i])]\n        })\n        \n        rocs[i] = pd.DataFrame(\n            data = np.c_[sklearn.metrics.roc_curve(y_true[:, i], y_pred[:, i])],\n            columns = ('fpr', 'tpr', 'threshold')\n        ).assign(\n            precinct = name\n        )\n    \n    # Bind rows to create a single data frame for each\n    roc = pd.concat(rocs, ignore_index=True)\n    auc = pd.concat(aucs, ignore_index=True)\n    \n    # Create plot\n    fig = plt.figure(figsize=(8, 8))\n    sns.lineplot(x='fpr', y='tpr', hue='precinct', data=roc, ci=None, palette=precinct_pal)\n\n    plt.plot([0,1],[0,1], 'k--', alpha=0.5) # 0-1 line \n    plt.title(\"ROC (one-vs-rest) curves\")\n         \n    L = plt.legend()\n    for precinct, auc_val, i in zip(auc.precinct, auc.auc, range(n_classes)):\n        L.get_texts()[i].set_text(\"{} (auc {:.3f})\".format(precinct, auc_val))\n        \n    plt.show()\n    \n    # Return the AUCs as a Data Frame\n    return(auc)",
      "execution_count": null,
      "outputs": []
    },
    {
      "cell_type": "markdown",
      "source": "We can then use this function to evaluate our class probability predictions.",
      "metadata": {
        "cell_id": "00036-e9b76966-eb2b-43de-b7c6-1ae79a266f25",
        "deepnote_cell_type": "markdown"
      }
    },
    {
      "cell_type": "code",
      "metadata": {
        "cell_id": "00037-f0840a6d-59e1-44c1-844b-cf9d8b9355cb",
        "deepnote_to_be_reexecuted": false,
        "source_hash": "53644bb1",
        "execution_millis": 449,
        "execution_start": 1615986414663,
        "output_cleared": true,
        "deepnote_cell_type": "code"
      },
      "source": "ovr_roc_plot(res_mn.precinct, res_mn[precincts_pred])",
      "execution_count": null,
      "outputs": []
    },
    {
      "cell_type": "markdown",
      "source": "---\n\n### &diams; Exercise 3\n\nDoes the ordering of the AUC values agree with your intuition about the models performance for the different precincts?",
      "metadata": {
        "cell_id": "00038-bbee77c8-ebc1-44fe-ba7e-19d014482930",
        "deepnote_cell_type": "markdown"
      }
    },
    {
      "cell_type": "markdown",
      "source": "",
      "metadata": {
        "cell_id": "00039-05bef2fc-2bb8-441f-ba92-120e4b4dcb34",
        "deepnote_cell_type": "markdown"
      }
    },
    {
      "cell_type": "markdown",
      "source": "---\n\n### &diams; Exercise 4\n\nWe have already established that this is reasonable for predicting most of these police precincts (accuracy of 0.895), however the AUCs reported for our model look very very good (all are >0.99). Can you explain this discrepancy? \n\n*Hint* - look at the definition of TPR and FPR and then think about what happens when we use the one-vs-rest approach. ",
      "metadata": {
        "cell_id": "00040-4bfa8a89-ae80-4547-aa06-01ba02d4f5f4",
        "deepnote_cell_type": "markdown"
      }
    },
    {
      "cell_type": "markdown",
      "source": "",
      "metadata": {
        "cell_id": "00041-aec1d705-657d-4ca7-8a05-e20ae91298aa",
        "deepnote_cell_type": "markdown"
      }
    },
    {
      "cell_type": "markdown",
      "source": "---\n\n# 3. Other multiclass classification models\n\nFor this section we will explore a number approaches to fitting and predict multiclass classification models. For the sake of uniformity we will assess the models in the same way:\n\n* Plot all of the predicted labels and the true labels for a visual comparison and\n\n* Show the `classification_report` result for the predicted labels.\n\nTo avoid repeated code we will use the following helper function,",
      "metadata": {
        "cell_id": "00042-853da82f-9302-408d-88bd-f1d3df553bdc",
        "deepnote_cell_type": "markdown"
      }
    },
    {
      "cell_type": "code",
      "metadata": {
        "cell_id": "00043-bf5594a8-4820-4f64-a224-80be3643d7a2",
        "deepnote_to_be_reexecuted": false,
        "source_hash": "beda2a3b",
        "execution_start": 1615986294180,
        "execution_millis": 1,
        "output_cleared": true,
        "deepnote_cell_type": "code"
      },
      "source": "def model_test_assess(model, inc_report = True, inc_proba = False):\n    # Use the model to predict test labels\n    res = pd.concat(\n        [ manh_test,\n          pd.Series(\n              data = model.predict(manh_test[['lon','lat']]),\n              name = \"pred_label\"\n          )\n        ], \n        axis = 1\n    )\n        \n    if (inc_proba):\n        res = pd.concat(\n            [ res, \n              pd.DataFrame(\n                  data = model.predict_proba(manh_test[['lon','lat']]),\n                  columns = precincts_pred\n              )\n            ], \n            axis = 1\n        )\n    \n    # Plot labels\n    plot_pred_labels(res)\n    \n    if inc_report: # Print report\n        print(\n            sklearn.metrics.classification_report(\n                res.precinct, res.pred_label,\n                zero_division = 0\n            )\n        )",
      "execution_count": null,
      "outputs": []
    },
    {
      "cell_type": "markdown",
      "source": "## 3.1. Support Vector Machines",
      "metadata": {
        "cell_id": "00044-86daaa58-437d-4bb1-8b5d-90acc327f4e8",
        "deepnote_cell_type": "markdown"
      }
    },
    {
      "cell_type": "markdown",
      "source": "### 3.1.1 `SVC`\n\nStandard Support Vector Classifier models are able to handle multiclass outcome vectors by fitting all of the one-to-one SVC models for each pair of classes. This therefore involves fitting ${k \\choose 2} = k(k-1)/2$ SVC models which can be slow. The labels are predicted based on using all ${k \\choose 2}$ generate binary predictions which are then tabulated and the label with the most votes is choosen. See [here](https://scikit-learn.org/stable/modules/svm.html#svm-classification) for more details.\n\nBelow we define a function for fitting and assess this model using different kernel and penalty values. As SVMs can be sensitive to scale of the features we include a pipeline thats scales the latitude and logitude values before fitting the model.",
      "metadata": {
        "cell_id": "00045-9c321bee-c52c-4123-881b-7f842e8d6a8a",
        "deepnote_cell_type": "markdown"
      }
    },
    {
      "cell_type": "code",
      "metadata": {
        "cell_id": "00046-885fa035-86be-43ca-b475-47738adec537",
        "deepnote_to_be_reexecuted": false,
        "source_hash": "2a33b4b8",
        "execution_start": 1615986294184,
        "execution_millis": 3,
        "output_cleared": true,
        "deepnote_cell_type": "code"
      },
      "source": "def fit_svc(kernel, C):\n    m_svc = make_pipeline(\n        sklearn.preprocessing.StandardScaler(),\n        sklearn.svm.SVC(C=C, kernel=kernel)\n    ).fit(X,y)\n    \n    model_test_assess(m_svc)",
      "execution_count": null,
      "outputs": []
    },
    {
      "cell_type": "markdown",
      "source": "---\n\n### &diams; Exercise 5\n\nUsing this function try different values of `kernel` and `C`, what seems to produce the best model? Explain why you think this model is performing better than the alternatives.\n\n*Hint* - recommended kernels to try include `rbd`, `poly`, and `linear`.",
      "metadata": {
        "cell_id": "00047-98a4d189-4fe6-495a-8da0-c6ab26ade143",
        "deepnote_cell_type": "markdown"
      }
    },
    {
      "cell_type": "markdown",
      "source": "",
      "metadata": {
        "cell_id": "00048-21718aff-0244-48e3-bbeb-f4c7a098a6f1",
        "deepnote_cell_type": "markdown"
      }
    },
    {
      "cell_type": "code",
      "metadata": {
        "cell_id": "00049-2190e70b-8241-43b7-b7b4-8736d8019bfc",
        "deepnote_to_be_reexecuted": false,
        "source_hash": "609b42fa",
        "execution_start": 1615986294190,
        "execution_millis": 876,
        "output_cleared": true,
        "deepnote_cell_type": "code"
      },
      "source": "fit_svc(kernel = \"rbf\", C=1)",
      "execution_count": null,
      "outputs": []
    },
    {
      "cell_type": "markdown",
      "source": "---\n\n### &diams; Exercise 6\n\nComment out the line of code that includes the `StandardScaler` in the pipeline below. What happens to the models predictive performance? Try adjusting `C` and or `kernel` to see if you can improve things.",
      "metadata": {
        "cell_id": "00050-69781d7c-391c-4605-93ce-41a71248de63",
        "deepnote_cell_type": "markdown"
      }
    },
    {
      "cell_type": "markdown",
      "source": "",
      "metadata": {
        "cell_id": "00051-75e4fa67-bbde-4553-a350-b5a8ce1a9c6f",
        "deepnote_cell_type": "markdown"
      }
    },
    {
      "cell_type": "code",
      "metadata": {
        "cell_id": "00052-e7b26842-e2ea-424b-9386-152e24e8b656",
        "deepnote_to_be_reexecuted": false,
        "source_hash": "d6b9350c",
        "execution_start": 1615986295004,
        "execution_millis": 761,
        "output_cleared": true,
        "deepnote_cell_type": "code"
      },
      "source": "m_svc2 = make_pipeline(\n    sklearn.preprocessing.StandardScaler(),\n    sklearn.svm.SVC(C=1, kernel=\"rbf\")\n).fit(X,y)\n\nmodel_test_assess(m_svc2, inc_report=False)",
      "execution_count": null,
      "outputs": []
    },
    {
      "cell_type": "markdown",
      "source": "---\n\n### 3.1.2 `LinearSVC`\n\nAn alternative to the one-vs-one behavior of `SVC` is to instead fit a one-vs-rest model, in sklearn this is only supported by the `LinearSVC` classifier model. This modeling approach needs to only fit $k$ SVM models, and is therefore usually much faster for large $k$. However, due to implementation details of the underlying fitting library it does not support non-linear kernels. As with other SVM models it is important to scale our data before fitting.",
      "metadata": {
        "cell_id": "00053-82a9e629-a68c-4fa0-b9b0-007a308f197e",
        "deepnote_cell_type": "markdown"
      }
    },
    {
      "cell_type": "code",
      "metadata": {
        "cell_id": "00054-050e0e66-1cb5-4b5f-9f2e-56bb0cc0b399",
        "deepnote_to_be_reexecuted": false,
        "source_hash": "42860a6d",
        "execution_start": 1615986295752,
        "execution_millis": 3,
        "output_cleared": true,
        "deepnote_cell_type": "code"
      },
      "source": "def fit_lsvc(C):\n    m_lsvc = make_pipeline(\n        sklearn.preprocessing.StandardScaler(),\n        sklearn.svm.LinearSVC(C=C, max_iter=5000)\n    ).fit(X,y)\n    \n    model_test_assess(m_lsvc)",
      "execution_count": null,
      "outputs": []
    },
    {
      "cell_type": "markdown",
      "source": "---\n\n### &diams; Exercise 7\n\nUsing this function try different values of `C` to tune the model, how does its performance compare to the `SVC` model?",
      "metadata": {
        "cell_id": "00055-17fa8fbc-395c-4193-aa60-810bd6fc9ea8",
        "deepnote_cell_type": "markdown"
      }
    },
    {
      "cell_type": "markdown",
      "source": "",
      "metadata": {
        "cell_id": "00056-2c2ac3a0-74a6-40bc-ad6d-fdb17ba34062",
        "deepnote_cell_type": "markdown"
      }
    },
    {
      "cell_type": "code",
      "metadata": {
        "cell_id": "00057-0f100206-eebf-4b39-bd48-b3d1e3ba0cff",
        "deepnote_to_be_reexecuted": false,
        "source_hash": "324c4968",
        "execution_start": 1615986295759,
        "execution_millis": 737,
        "output_cleared": true,
        "deepnote_cell_type": "code"
      },
      "source": "fit_lsvc(C=1)",
      "execution_count": null,
      "outputs": []
    },
    {
      "cell_type": "markdown",
      "source": "## 3.2 Tree based methods\n\n### 3.2.1 `DecisionTreeClassifier`\n\nThis model fits a decision tree model that attempts to classify observations by constructing a binary decision tree on the features provided. In the case of binary and multiclass classification the predicted label is based on the most common label within the terminal node. For fitting this model for these data we will solely focus on the use of the `max_depth` parameter which determines the number of branchs within the tree. Keep in mind that each additional layer added to the tree potentially increases the number of nodes by a factor of 2. \n",
      "metadata": {
        "cell_id": "00058-436dbeca-fc63-492d-9be6-4404af71da97",
        "deepnote_cell_type": "markdown"
      }
    },
    {
      "cell_type": "code",
      "metadata": {
        "cell_id": "00059-1c54438d-5ab4-4adc-bfba-0c636b589e34",
        "deepnote_to_be_reexecuted": false,
        "source_hash": "53b2deb4",
        "execution_start": 1615986296465,
        "execution_millis": 1,
        "output_cleared": true,
        "deepnote_cell_type": "code"
      },
      "source": "def fit_dt(max_depth):\n    m_dt = sklearn.tree.DecisionTreeClassifier(\n        max_depth = max_depth\n    ).fit(X,y)\n    \n    model_test_assess(m_dt)",
      "execution_count": null,
      "outputs": []
    },
    {
      "cell_type": "markdown",
      "source": "Use the following code chunk to explore the effect of different max depths on the tree model.",
      "metadata": {
        "cell_id": "00060-b845a739-f306-48a0-a4da-50654ace3035",
        "deepnote_cell_type": "markdown"
      }
    },
    {
      "cell_type": "code",
      "metadata": {
        "cell_id": "00061-71faa63f-6d45-4e0a-9ab6-d4b75259e341",
        "deepnote_to_be_reexecuted": false,
        "source_hash": "f1f19183",
        "execution_start": 1615986296468,
        "execution_millis": 675,
        "output_cleared": true,
        "deepnote_cell_type": "code"
      },
      "source": "fit_dt(max_depth = 2)",
      "execution_count": null,
      "outputs": []
    },
    {
      "cell_type": "markdown",
      "source": "---\n\n### &diams; Exercise 8\n\nUsing `max_depth=1` how many different classes are reflected in the predictions? Using `max_depth=2`? Based on this and given there are 5 classes we are attempting to classify, what is the minimum depth of tree should we be using?",
      "metadata": {
        "cell_id": "00062-597d9cec-5636-4eb1-bc26-34ac7ffa2556",
        "deepnote_cell_type": "markdown"
      }
    },
    {
      "cell_type": "markdown",
      "source": "",
      "metadata": {
        "cell_id": "00063-0da7963c-48b2-456b-b701-3601b12c68a7",
        "deepnote_cell_type": "markdown"
      }
    },
    {
      "cell_type": "markdown",
      "source": "---\n\n### &diams; Exercise 9\n\nExamine the boundaries being created by the model (particularly evident with small `max_depth` values), what shape do they have? Is the potentially problematic for the task at hand?",
      "metadata": {
        "cell_id": "00064-096032f5-4e11-474f-bf97-629d40b0e242",
        "deepnote_cell_type": "markdown"
      }
    },
    {
      "cell_type": "markdown",
      "source": "",
      "metadata": {
        "cell_id": "00065-83ab3aac-1abe-4018-9677-f648bac27a9d",
        "deepnote_cell_type": "markdown"
      }
    },
    {
      "cell_type": "markdown",
      "source": "--- \n\nThe issue we've just seem is similar to the issue we saw with the original single precinct logistic regression model from Week 7, and we can somewhat address it in the same way by introducing an interaction feature between `lat` and `lon` before fitting our model by adding a `PolynomialFeature` step before fitting the tree model.",
      "metadata": {
        "cell_id": "00066-3ba3684e-41d6-4fa4-a12a-77c337ac209d",
        "deepnote_cell_type": "markdown"
      }
    },
    {
      "cell_type": "code",
      "metadata": {
        "cell_id": "00067-87d3b93b-e6c2-4fed-bba3-ef7c8b669636",
        "deepnote_to_be_reexecuted": false,
        "source_hash": "b474ceed",
        "execution_start": 1615986297121,
        "execution_millis": 0,
        "output_cleared": true,
        "deepnote_cell_type": "code"
      },
      "source": "def fit_dt_int(max_depth):\n    m_dt_int = make_pipeline(\n        sklearn.preprocessing.PolynomialFeatures(\n            degree=2, interaction_only=True, include_bias=False\n        ),\n        sklearn.tree.DecisionTreeClassifier(\n            max_depth = max_depth\n        )\n    ).fit(X,y)\n    \n    model_test_assess(m_dt_int)\n    ",
      "execution_count": null,
      "outputs": []
    },
    {
      "cell_type": "code",
      "metadata": {
        "cell_id": "00068-e1da3ede-9f2e-4359-ab89-b8f3a2ab5f5c",
        "deepnote_to_be_reexecuted": false,
        "source_hash": "382c67d4",
        "execution_start": 1615986297127,
        "execution_millis": 698,
        "output_cleared": true,
        "deepnote_cell_type": "code"
      },
      "source": "fit_dt_int(max_depth = 2)",
      "execution_count": null,
      "outputs": []
    },
    {
      "cell_type": "markdown",
      "source": "---\n\n### &diams; Exercise 10\n\nWhat has changed about the boundaries being created by the model (particularly evident with small `max_depth` values), what shape do they have? Does this improve model performance?",
      "metadata": {
        "cell_id": "00069-3f7f6ae4-cda9-456d-80f6-30c81112c390",
        "deepnote_cell_type": "markdown"
      }
    },
    {
      "cell_type": "markdown",
      "source": "",
      "metadata": {
        "cell_id": "00070-98477566-b7f3-406a-9d59-3c4fe4638c82",
        "deepnote_cell_type": "markdown"
      }
    },
    {
      "cell_type": "markdown",
      "source": "---\n\n### &diams; Exercise 11\n\nFor either model, for what values of `max_depth` do you start seeing clear evidence of overfitting?",
      "metadata": {
        "cell_id": "00071-2329806f-8a85-4955-ab33-9136fd42789f",
        "deepnote_cell_type": "markdown"
      }
    },
    {
      "cell_type": "markdown",
      "source": "",
      "metadata": {
        "cell_id": "00072-9f0b5288-9ad6-42b2-aeab-ea8e5cd2f542",
        "deepnote_cell_type": "markdown"
      }
    },
    {
      "cell_type": "markdown",
      "source": "---\n\n### 3.2.2 `RandomForestClassifier`\n\nAs discussed in lecture, this class of model is an extension of the decision tree frame work whereby a number decision tree models are fit to random sub-sample (i.e. bootstrap sample) of the features. When making predictions each tree predicts a label and the most common label across all of the trees is used as the final prediction. For now we will just examine the effect of `n_estimators` which corresponds to the number of trees and `max_depth` which is the maximum depth of the trees.",
      "metadata": {
        "cell_id": "00073-24cfd841-8590-4b08-9862-6e21c75d6dc5",
        "deepnote_cell_type": "markdown"
      }
    },
    {
      "cell_type": "code",
      "metadata": {
        "cell_id": "00074-9300887c-829d-4473-b603-69df59737747",
        "deepnote_to_be_reexecuted": false,
        "source_hash": "f4236799",
        "execution_start": 1615986297791,
        "execution_millis": 1,
        "output_cleared": true,
        "deepnote_cell_type": "code"
      },
      "source": "def fit_rf(n_estimators, max_depth):\n    m_rf = sklearn.ensemble.RandomForestClassifier(\n        n_estimators=n_estimators, max_depth=max_depth\n    ).fit(X,y)\n    \n    model_test_assess(m_rf)",
      "execution_count": null,
      "outputs": []
    },
    {
      "cell_type": "markdown",
      "source": "Use the following code chunk to explore the effect of different values of `max_depth` and `n_estimators` on the model's performance.",
      "metadata": {
        "cell_id": "00075-8cbe84c3-2821-4406-aed6-4d4b6dae0852",
        "deepnote_cell_type": "markdown"
      }
    },
    {
      "cell_type": "code",
      "metadata": {
        "cell_id": "00076-d950efd7-9b59-49cf-8767-f707a5e6936d",
        "deepnote_to_be_reexecuted": false,
        "source_hash": "2b9cd087",
        "execution_start": 1615986297795,
        "execution_millis": 766,
        "output_cleared": true,
        "deepnote_cell_type": "code"
      },
      "source": "fit_rf(n_estimators = 5, max_depth = 4)",
      "execution_count": null,
      "outputs": []
    },
    {
      "cell_type": "markdown",
      "source": "---\n\n### &diams; Exercise 12\n\nWhich combination of `n_estimators` and `max_depth` seems to produce the best model performance? How does it compare to the other models considered.",
      "metadata": {
        "cell_id": "00077-2d8934e5-7fd2-4596-9773-20de2394f418",
        "deepnote_cell_type": "markdown"
      }
    },
    {
      "cell_type": "markdown",
      "source": "",
      "metadata": {
        "cell_id": "00078-23db58aa-361e-464d-95d7-65b229d532be",
        "deepnote_cell_type": "markdown"
      }
    },
    {
      "cell_type": "markdown",
      "source": "---\n\n### &diams; Exercise 13\n\nFor a given `max_depth` (e.g. 4) compare the performance of a single decision tree model to random forrest models with different values of `n_estimators`, how do they compare?",
      "metadata": {
        "cell_id": "00079-5286988d-5701-49d8-abb8-bdd1e42321b5",
        "deepnote_cell_type": "markdown"
      }
    },
    {
      "cell_type": "markdown",
      "source": "",
      "metadata": {
        "cell_id": "00080-29d2916a-5f1b-4e0f-bedd-84063810a176",
        "deepnote_cell_type": "markdown"
      }
    },
    {
      "cell_type": "markdown",
      "source": "---\n\n### &diams; Exercise 14\n\nDo you think the inclusion of an interaction feature would help or hurt this model's performance? Explain.",
      "metadata": {
        "cell_id": "00081-ba875297-ce59-47c8-b761-2ab5b9d9a570",
        "deepnote_cell_type": "markdown"
      }
    },
    {
      "cell_type": "markdown",
      "source": "",
      "metadata": {
        "cell_id": "00082-d4c06ef7-9110-484d-990e-d268fdc29888",
        "deepnote_cell_type": "markdown"
      }
    },
    {
      "cell_type": "markdown",
      "source": "## 3.3 Comparisons\n\n",
      "metadata": {
        "cell_id": "00083-60111d04-974a-4f70-9567-459f05d4fe86",
        "deepnote_cell_type": "markdown"
      }
    },
    {
      "cell_type": "markdown",
      "source": "### &diams; Exercise 15\n\nYou have now been given the opportunity to experiment with a number of different multiclass classification models. Based on your experience with this data set which model do you think is best for this particular classification task? Justify your answer.\n\nYou answer should contain some discussion of the potential for overfitting.",
      "metadata": {
        "cell_id": "00084-e3e8fc9d-8b5f-4745-aea9-7f98a78c1cd9",
        "deepnote_cell_type": "markdown"
      }
    },
    {
      "cell_type": "markdown",
      "source": "",
      "metadata": {
        "cell_id": "00085-0de57e2b-3306-423b-9da1-be95addced0f",
        "deepnote_cell_type": "markdown"
      }
    },
    {
      "cell_type": "markdown",
      "source": "---\n\n## 4. Competing the worksheet\n\nAt this point you have hopefully been able to complete all the preceeding exercises. Now \nis a good time to check the reproducibility of this document by restarting the notebook's\nkernel and rerunning all cells in order.\n\nOnce that is done and you are happy with everything, you can then run the following cell \nto generate your PDF and turn it in on gradescope under the `mlp-week09` assignment.",
      "metadata": {
        "tags": [],
        "cell_id": "00086-972a2e5e-b9de-4c9e-9231-469e6d139e3c",
        "deepnote_cell_type": "markdown"
      }
    },
    {
      "cell_type": "code",
      "metadata": {
        "deepnote_to_be_reexecuted": false,
        "execution_millis": 11110,
        "output_cleared": true,
        "source_hash": "a80049a2",
        "tags": [],
        "cell_id": "00087-73e67ae4-48f2-42d5-b43e-47f2799ed10e",
        "execution_start": 1615986298562,
        "deepnote_cell_type": "code"
      },
      "source": "!jupyter nbconvert --to pdf mlp-week09.ipynb",
      "execution_count": null,
      "outputs": []
    },
    {
      "cell_type": "markdown",
      "source": "<a style='text-decoration:none;line-height:16px;display:flex;color:#5B5B62;padding:10px;justify-content:end;' href='https://deepnote.com?utm_source=created-in-deepnote-cell&projectId=e8298340-de47-440d-821d-5abda62c95fa' target=\"_blank\">\n<img style='display:inline;max-height:16px;margin:0px;margin-right:7.5px;' src='data:image/svg+xml;base64,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' > </img>\nCreated in <span style='font-weight:600;margin-left:4px;'>Deepnote</span></a>",
      "metadata": {
        "tags": [],
        "created_in_deepnote_cell": true,
        "deepnote_cell_type": "markdown"
      }
    }
  ],
  "nbformat": 4,
  "nbformat_minor": 4,
  "metadata": {
    "kernelspec": {
      "display_name": "Python 3",
      "language": "python",
      "name": "python3"
    },
    "language_info": {
      "codemirror_mode": {
        "name": "ipython",
        "version": 3
      },
      "file_extension": ".py",
      "mimetype": "text/x-python",
      "name": "python",
      "nbconvert_exporter": "python",
      "pygments_lexer": "ipython3",
      "version": "3.9.2"
    },
    "deepnote_notebook_id": "0a01b34c-64d5-412b-8f5b-46ff1fd65769",
    "deepnote": {},
    "deepnote_execution_queue": []
  }
}